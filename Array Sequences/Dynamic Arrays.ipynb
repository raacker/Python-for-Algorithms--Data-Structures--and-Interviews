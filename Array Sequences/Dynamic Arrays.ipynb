{
 "cells": [
  {
   "cell_type": "markdown",
   "metadata": {},
   "source": [
    "# Dynamic Arrays\n",
    "____\n"
   ]
  },
  {
   "cell_type": "markdown",
   "metadata": {
    "collapsed": true
   },
   "source": [
    "## Please refer to the video lecture for the remaining information.\n",
    "## The section consists mostly of video explanations not well-suited for Jupyter Notebooks.\n",
    "# Thanks!"
   ]
  },
  {
   "cell_type": "code",
   "execution_count": 2,
   "metadata": {
    "collapsed": false
   },
   "outputs": [
    {
     "name": "stdout",
     "output_type": "stream",
     "text": [
      "Length :   0; Size in bytes :   18 \n",
      "Length :   1; Size in bytes :   26 \n",
      "Length :   2; Size in bytes :   26 \n",
      "Length :   3; Size in bytes :   26 \n",
      "Length :   4; Size in bytes :   26 \n",
      "Length :   5; Size in bytes :   34 \n",
      "Length :   6; Size in bytes :   34 \n",
      "Length :   7; Size in bytes :   34 \n",
      "Length :   8; Size in bytes :   34 \n",
      "Length :   9; Size in bytes :   50 \n"
     ]
    }
   ],
   "source": [
    "import sys\n",
    "\n",
    "n = 10\n",
    "\n",
    "data = []\n",
    "\n",
    "for i in range(n):\n",
    "    a = len(data)\n",
    "    b = sys.getsizeof(data)\n",
    "    \n",
    "    print 'Length : {0:3d}; Size in bytes : {1:4d} '.format(a,b/4)\n",
    "    \n",
    "    data.append(n)\n",
    "    "
   ]
  },
  {
   "cell_type": "code",
   "execution_count": null,
   "metadata": {
    "collapsed": true
   },
   "outputs": [],
   "source": []
  }
 ],
 "metadata": {
  "kernelspec": {
   "display_name": "Python 2",
   "language": "python",
   "name": "python2"
  },
  "language_info": {
   "codemirror_mode": {
    "name": "ipython",
    "version": 2
   },
   "file_extension": ".py",
   "mimetype": "text/x-python",
   "name": "python",
   "nbconvert_exporter": "python",
   "pygments_lexer": "ipython2",
   "version": "2.7.6"
  }
 },
 "nbformat": 4,
 "nbformat_minor": 0
}
